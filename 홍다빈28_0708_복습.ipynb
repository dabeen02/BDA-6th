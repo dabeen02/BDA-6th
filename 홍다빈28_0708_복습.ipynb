{
 "cells": [
  {
   "cell_type": "markdown",
   "metadata": {},
   "source": [
    "# 복습과제"
   ]
  },
  {
   "cell_type": "code",
   "execution_count": 37,
   "metadata": {},
   "outputs": [],
   "source": [
    "import pandas as pd\n",
    "import numpy as np\n",
    "import matplotlib.pyplot as plt\n",
    "\n",
    "%matplotlib inline"
   ]
  },
  {
   "cell_type": "code",
   "execution_count": 38,
   "metadata": {},
   "outputs": [],
   "source": [
    "df = pd.read_csv('scores400.csv')"
   ]
  },
  {
   "cell_type": "code",
   "execution_count": 39,
   "metadata": {},
   "outputs": [
    {
     "data": {
      "text/html": [
       "<div>\n",
       "<style scoped>\n",
       "    .dataframe tbody tr th:only-of-type {\n",
       "        vertical-align: middle;\n",
       "    }\n",
       "\n",
       "    .dataframe tbody tr th {\n",
       "        vertical-align: top;\n",
       "    }\n",
       "\n",
       "    .dataframe thead th {\n",
       "        text-align: right;\n",
       "    }\n",
       "</style>\n",
       "<table border=\"1\" class=\"dataframe\">\n",
       "  <thead>\n",
       "    <tr style=\"text-align: right;\">\n",
       "      <th></th>\n",
       "      <th>score</th>\n",
       "    </tr>\n",
       "  </thead>\n",
       "  <tbody>\n",
       "    <tr>\n",
       "      <th>0</th>\n",
       "      <td>76</td>\n",
       "    </tr>\n",
       "    <tr>\n",
       "      <th>1</th>\n",
       "      <td>55</td>\n",
       "    </tr>\n",
       "    <tr>\n",
       "      <th>2</th>\n",
       "      <td>80</td>\n",
       "    </tr>\n",
       "    <tr>\n",
       "      <th>3</th>\n",
       "      <td>80</td>\n",
       "    </tr>\n",
       "    <tr>\n",
       "      <th>4</th>\n",
       "      <td>74</td>\n",
       "    </tr>\n",
       "    <tr>\n",
       "      <th>...</th>\n",
       "      <td>...</td>\n",
       "    </tr>\n",
       "    <tr>\n",
       "      <th>395</th>\n",
       "      <td>77</td>\n",
       "    </tr>\n",
       "    <tr>\n",
       "      <th>396</th>\n",
       "      <td>60</td>\n",
       "    </tr>\n",
       "    <tr>\n",
       "      <th>397</th>\n",
       "      <td>83</td>\n",
       "    </tr>\n",
       "    <tr>\n",
       "      <th>398</th>\n",
       "      <td>80</td>\n",
       "    </tr>\n",
       "    <tr>\n",
       "      <th>399</th>\n",
       "      <td>85</td>\n",
       "    </tr>\n",
       "  </tbody>\n",
       "</table>\n",
       "<p>400 rows × 1 columns</p>\n",
       "</div>"
      ],
      "text/plain": [
       "     score\n",
       "0       76\n",
       "1       55\n",
       "2       80\n",
       "3       80\n",
       "4       74\n",
       "..     ...\n",
       "395     77\n",
       "396     60\n",
       "397     83\n",
       "398     80\n",
       "399     85\n",
       "\n",
       "[400 rows x 1 columns]"
      ]
     },
     "execution_count": 39,
     "metadata": {},
     "output_type": "execute_result"
    }
   ],
   "source": [
    "df #성적의 데이터 index 학생 수"
   ]
  },
  {
   "cell_type": "markdown",
   "metadata": {},
   "source": [
    "### 기술 통계적인 것을 저번 시간에 배움\n",
    "\n",
    "### 추측통계를 배울 것\n",
    "- 통계적인 성질을 추측하는 방식\n",
    "- 가설검정 통계적인 다양한 귀무가설, 대립가설 등\n",
    "- 그 전에 앞서 모집단과 표본, 확률, 확률분포 것들을 간단하게 확인하고 넘어가야 한다."
   ]
  },
  {
   "cell_type": "code",
   "execution_count": 40,
   "metadata": {},
   "outputs": [],
   "source": [
    "scores = np.array(df['score'])"
   ]
  },
  {
   "cell_type": "code",
   "execution_count": 41,
   "metadata": {},
   "outputs": [
    {
     "data": {
      "text/plain": [
       "array([ 76,  55,  80,  80,  74,  61,  81,  76,  23,  80,  41,  80,  68,\n",
       "        88,  69,  57,  68,  86,  70,  68,  81,  73,  70,  90,  93,  79,\n",
       "        66,  92,  88,  81,  52,  72,  59,  68,  74,  72,  63,  89,  45,\n",
       "        81,  42,  76,  57,  83,  71,  74,  55,  60,  73,  79, 100,  73,\n",
       "        85,  47,  50,  65,  52,  92,  64,  91,  92,  71,  78,  69,  78,\n",
       "        77,  68,  78,  96,  81,  75,  72,  55,  55,  75,  49,  59,  89,\n",
       "        99,  45,  94,  67,  70,  68,  86,  46,  77,  56,  79,  93,  70,\n",
       "        76,  76,  58,  93,  96,  81,  71,  63,  61,  96,  91,  69,  46,\n",
       "        28,  54,  68,  91,  60,  78,  90,  72,  68,  50,  52,  76,  67,\n",
       "        72,  69,  80,  58,  65,  98,  58,  66,  61,  77,  85,  63,  64,\n",
       "        66,  78,  59,  64,  34,  49,  68,  83,  74,  54,  49,  73,  45,\n",
       "        86,  71,  46,  56,  59,  58,  48,  57,  60,  59,  87,  72,  55,\n",
       "        65,  57,  65,  83,  74, 100,  76,  56,  82,  86,  86,  54,  68,\n",
       "        87,  45,  63,  49,  56,  55,  89,  66,  57,  54,  72,  70,  90,\n",
       "        78,  49,  61,  86,  61,  96,  54,  79,  57,  62,  86,  68,  82,\n",
       "        77,  81,  57,  67,  76,  57,  94,  58,  65,  55,  38,  97,  67,\n",
       "        63,  67,  91,  56,  80,  64,  61,  79,  85,  62,  58,  52,  87,\n",
       "        61,  42,  91,  49,  82,  73,  74,  61,  75,  45,  79,  93,  83,\n",
       "        40,  55,  67,  77,  68,  63,  79,  87,  67,  81,  31,  56,  65,\n",
       "        63,  75,  85,  78,  61,  47,  78,  42,  80,  67,  52,  74,  70,\n",
       "        69,  69,  76,  84,  77,  85,  69,  94,  79,  62,  54,  73,  50,\n",
       "        55,  74,  61,  56,  69,  71,  67,  64,  83,  75,  67, 100,  73,\n",
       "        87,  62,  50,  58,  66,  63,  90,  68,  77,  69,  63,  71,  96,\n",
       "        58,  82,  55,  63,  70,  75,  92,  69,  57,  80,  65,  74,  68,\n",
       "        41,  78,  79,  84,  97,  52,  78,  76,  64,  76,  77,  52,  74,\n",
       "        56,  60,  43,  63,  67,  78,  70,  47,  83,  68,  77,  84,  91,\n",
       "        99,  69,  75,  54,  86,  52,  43,  82,  62,  82,  76,  46,  29,\n",
       "        54,  70,  52,  60,  48,  73,  71,  63,  91,  92,  78,  43,  53,\n",
       "        76,  61,  63,  83,  78,  90,  64,  91,  62,  92,  72,  57,  46,\n",
       "        65,  66,  83,  68,  64,  86,  67,  61,  79,  63,  80,  61,  67,\n",
       "        72,  64,  70,  82,  76,  77,  60,  83,  80,  85], dtype=int64)"
      ]
     },
     "execution_count": 41,
     "metadata": {},
     "output_type": "execute_result"
    }
   ],
   "source": [
    "scores"
   ]
  },
  {
   "cell_type": "code",
   "execution_count": 42,
   "metadata": {},
   "outputs": [
    {
     "data": {
      "text/plain": [
       "69.53"
      ]
     },
     "execution_count": 42,
     "metadata": {},
     "output_type": "execute_result"
    }
   ],
   "source": [
    "scores.mean()"
   ]
  },
  {
   "cell_type": "markdown",
   "metadata": {},
   "source": [
    "- 전체 모집단의 점수를 당장은 알 수 없으니 추측 -> 표본을 가지고 추측을 하게 된다.\n",
    "- 1. 표본에 대한 기준이 필요하다.\n",
    "- 표본의 수 통계적으로는 30명 이상이 되어야 한다. 표본의 크기를 구하는 공식 -> 최소 이 가설이 유의하려면 어느 정도의 표본이 필요하다.\n",
    "- 2. 표본을 추출하는 방법\n",
    "- 랜덤샘플링, 층화추출법 등 표본을 추출하는 방법\n",
    "- 3. 복원, 비복원 추출\n",
    "- 전체 표본 자체가 동일하게 이러지는 것 복원"
   ]
  },
  {
   "cell_type": "code",
   "execution_count": 43,
   "metadata": {},
   "outputs": [
    {
     "data": {
      "text/plain": [
       "array([1, 6])"
      ]
     },
     "execution_count": 43,
     "metadata": {},
     "output_type": "execute_result"
    }
   ],
   "source": [
    "# 무작위 추출\n",
    "np.random.choice([1,2,3,4,5,6],2)"
   ]
  },
  {
   "cell_type": "code",
   "execution_count": 44,
   "metadata": {},
   "outputs": [
    {
     "data": {
      "text/plain": [
       "array([3, 4])"
      ]
     },
     "execution_count": 44,
     "metadata": {},
     "output_type": "execute_result"
    }
   ],
   "source": [
    "# 복원, 비복언\n",
    "np.random.choice([1,2,3,4,5,6],2, replace=True)"
   ]
  },
  {
   "cell_type": "code",
   "execution_count": 45,
   "metadata": {},
   "outputs": [
    {
     "data": {
      "text/plain": [
       "array([5, 5])"
      ]
     },
     "execution_count": 45,
     "metadata": {},
     "output_type": "execute_result"
    }
   ],
   "source": [
    "# 무작위 추출하지만 계산 결과는 다를 수 있다.\n",
    "# 난수를 만들 때, 난수에 대한 시드를 만들어서 매번 숫자가 동일한 난수를 얻게 만든다.\n",
    "np.random.seed(111)\n",
    "np.random.choice([1,2,3,4,5,6],2)\n",
    "\n",
    "#머신러닝 -> 비교할 때 random.seed(111)"
   ]
  },
  {
   "cell_type": "code",
   "execution_count": 46,
   "metadata": {},
   "outputs": [
    {
     "data": {
      "text/plain": [
       "67.0"
      ]
     },
     "execution_count": 46,
     "metadata": {},
     "output_type": "execute_result"
    }
   ],
   "source": [
    "np.random.seed(1111)\n",
    "sample = np.random.choice(df['score'],20)\n",
    "sample.mean()"
   ]
  },
  {
   "cell_type": "markdown",
   "metadata": {},
   "source": [
    "- 전체평균은 69.53인데, 한 번 샘플을 통해서 확인한 결과는 67점이 나왔다.\n",
    "- 무작위추출을 여러번 하게 되면 어떤 결과가 나오나?"
   ]
  },
  {
   "cell_type": "code",
   "execution_count": 47,
   "metadata": {
    "scrolled": true
   },
   "outputs": [
    {
     "name": "stdout",
     "output_type": "stream",
     "text": [
      "1번째 무작위로 추출한 표본평균 72.85\n",
      "2번째 무작위로 추출한 표본평균 69.2\n",
      "3번째 무작위로 추출한 표본평균 64.45\n",
      "4번째 무작위로 추출한 표본평균 72.65\n",
      "5번째 무작위로 추출한 표본평균 67.9\n",
      "6번째 무작위로 추출한 표본평균 66.95\n",
      "7번째 무작위로 추출한 표본평균 71.25\n",
      "8번째 무작위로 추출한 표본평균 72.05\n",
      "9번째 무작위로 추출한 표본평균 68.05\n",
      "10번째 무작위로 추출한 표본평균 63.85\n",
      "11번째 무작위로 추출한 표본평균 76.05\n",
      "12번째 무작위로 추출한 표본평균 67.3\n",
      "13번째 무작위로 추출한 표본평균 71.3\n",
      "14번째 무작위로 추출한 표본평균 66.25\n",
      "15번째 무작위로 추출한 표본평균 69.85\n",
      "16번째 무작위로 추출한 표본평균 69.35\n",
      "17번째 무작위로 추출한 표본평균 72.0\n",
      "18번째 무작위로 추출한 표본평균 72.85\n",
      "19번째 무작위로 추출한 표본평균 70.3\n",
      "20번째 무작위로 추출한 표본평균 66.1\n",
      "21번째 무작위로 추출한 표본평균 66.55\n",
      "22번째 무작위로 추출한 표본평균 70.1\n",
      "23번째 무작위로 추출한 표본평균 73.95\n",
      "24번째 무작위로 추출한 표본평균 69.15\n",
      "25번째 무작위로 추출한 표본평균 71.85\n",
      "26번째 무작위로 추출한 표본평균 75.15\n",
      "27번째 무작위로 추출한 표본평균 69.45\n",
      "28번째 무작위로 추출한 표본평균 71.4\n",
      "29번째 무작위로 추출한 표본평균 72.7\n",
      "30번째 무작위로 추출한 표본평균 68.6\n",
      "69.98166666666667\n"
     ]
    }
   ],
   "source": [
    "c=[]\n",
    "for i in range(30):\n",
    "    sample = np.random.choice(df['score'],20)\n",
    "    print(f'{i+1}번째 무작위로 추출한 표본평균', sample.mean())\n",
    "    c.append(sample)\n",
    "print(np.mean(c))"
   ]
  },
  {
   "cell_type": "markdown",
   "metadata": {},
   "source": [
    "- 불안정한 숫자들이 나오기 때문에 이런 현상을 해석하기 위해서 확률을 사용한다.\n",
    "- 확률이라는 것은 그 값들이 나올 확률이 결정되는 게 결국 확률변수\n",
    "- 주사위를 돌릴 때 마다 항상 같은 값을 얻을 수 없다.\n",
    "- 확률로 생각하면 1/6.\n",
    "- 확률로 접근해서 통계적으로 풀어보는 것!"
   ]
  },
  {
   "cell_type": "markdown",
   "metadata": {},
   "source": [
    "- 확률의 중요한 성질\n",
    "- '사건이 서로 배반이면, 그정에 적어도 하나 일어나는 각 사건의 확률의 합과 같다.'\n",
    "- '각 사건이 서로 상호배반이면 동시에 일어날 수 없다.'\n",
    "- 확률 합이 1"
   ]
  },
  {
   "cell_type": "markdown",
   "metadata": {},
   "source": [
    "- 추측통계에서도 마찬가지로 해당 모집단을 가지고 표본을 추출하는 경우 (무작위로 추출하는 경우) 확률 모형으로 나타낼 수 있음\n",
    "- 모집단의 확률분포를 따르는 확률변수로 간주할 수 있다."
   ]
  },
  {
   "cell_type": "code",
   "execution_count": 48,
   "metadata": {},
   "outputs": [
    {
     "data": {
      "image/png": "[encoded data removed]",
      "text/plain": [
       "<Figure size 720x576 with 1 Axes>"
      ]
     },
     "metadata": {
      "needs_background": "light"
     },
     "output_type": "display_data"
    }
   ],
   "source": [
    "# 전체 전교생 시험 점수 분포\n",
    "fig = plt.figure(figsize=(10,8))\n",
    "ax = fig.add_subplot(111)\n",
    "ax.hist(df['score'], bins=100, range=(1,100), density=True)\n",
    "ax.set_xlim(0,100)\n",
    "ax.set_ylim(0,0.05)\n",
    "ax.set_xlabel('score')\n",
    "plt.show()"
   ]
  },
  {
   "cell_type": "markdown",
   "metadata": {},
   "source": [
    "- 70점을 얻은 학생은 전교생에서 0.04정도 차지한다. 전체 4%를 차지한다.\n",
    "- 무작위추출로 수행하면 4% 확률로 70점이라는 표본 데이터를 얻을 수 있다."
   ]
  },
  {
   "cell_type": "markdown",
   "metadata": {},
   "source": [
    "## 중심극한정리\n",
    "- 통계학에서 중요한 키워드\n",
    "- 무작위로 추출을 진행한다. 표본의 크기도 커지고, 표본의 데이터가 커진다. 그것들이 실제의 확률분포와 가까워진다."
   ]
  },
  {
   "cell_type": "code",
   "execution_count": 49,
   "metadata": {},
   "outputs": [
    {
     "data": {
      "image/png": "[encoded data removed]",
      "text/plain": [
       "<Figure size 720x576 with 1 Axes>"
      ]
     },
     "metadata": {
      "needs_background": "light"
     },
     "output_type": "display_data"
    }
   ],
   "source": [
    "#전체 전교생 시험 점수 분포\n",
    "sample = np.random.choice(df['score'],1000)\n",
    "fig = plt.figure(figsize=(10,8))\n",
    "ax = fig.add_subplot(111)\n",
    "ax.hist(sample, bins=100, range=(1,100), density= True)\n",
    "ax.set_xlim(0,100)\n",
    "ax.set_ylim(0, 0.05)\n",
    "ax.set_xlabel('score')\n",
    "plt.show()"
   ]
  },
  {
   "cell_type": "markdown",
   "metadata": {},
   "source": [
    "- 표본 평균을 가지고 진행을 해보자\n",
    "- 표본을 뽑아서 표본에 대한 평균을 가지고 분포를 만들어 보면 어떤 식으로 그려지는지?"
   ]
  },
  {
   "cell_type": "code",
   "execution_count": 50,
   "metadata": {},
   "outputs": [
    {
     "data": {
      "image/png": "[encoded data removed]",
      "text/plain": [
       "<Figure size 720x576 with 1 Axes>"
      ]
     },
     "metadata": {
      "needs_background": "light"
     },
     "output_type": "display_data"
    }
   ],
   "source": [
    "sample_mean = [np.random.choice(df['score'],20).mean() for _ in range(1000)]\n",
    "fig = plt.figure(figsize=(10,8))\n",
    "ax = fig.add_subplot(111)\n",
    "ax.hist(sample_mean, bins=100, range=(1,100), density= True)\n",
    "ax.set_xlim(0,100)\n",
    "ax.set_ylim(0, 0.15)\n",
    "ax.set_xlabel('score')\n",
    "plt.show()"
   ]
  },
  {
   "cell_type": "code",
   "execution_count": 51,
   "metadata": {},
   "outputs": [
    {
     "data": {
      "image/png": "[encoded data removed]",
      "text/plain": [
       "<Figure size 720x576 with 1 Axes>"
      ]
     },
     "metadata": {
      "needs_background": "light"
     },
     "output_type": "display_data"
    }
   ],
   "source": [
    "sample_mean = [np.random.choice(df['score'],20).mean() for _ in range(10000)]\n",
    "fig = plt.figure(figsize=(10,8))\n",
    "ax = fig.add_subplot(111)\n",
    "ax.hist(sample_mean, bins=100, range=(1,100), density= True)\n",
    "ax.vlines(np.mean(sample_mean),0,1,'grey')\n",
    "ax.set_xlim(0,100)\n",
    "ax.set_ylim(0, 0.15)\n",
    "ax.set_xlabel('score')\n",
    "plt.show()"
   ]
  },
  {
   "cell_type": "markdown",
   "metadata": {},
   "source": [
    "- 무작위추출로 인한 표본평균으로 모평균 추측할 수 있는 것이 실제로 10,000번 이상 진행해보니 분포 자체가 모평균 근처에 분포되어 있는 것으로 확인\n",
    "- 이 근거로 우리가 표본평균으로 모평균을 추측할 수 있다고 판단"
   ]
  }
 ],
 "metadata": {
  "kernelspec": {
   "display_name": "Python 3",
   "language": "python",
   "name": "python3"
  },
  "language_info": {
   "codemirror_mode": {
    "name": "ipython",
    "version": 3
   },
   "file_extension": ".py",
   "mimetype": "text/x-python",
   "name": "python",
   "nbconvert_exporter": "python",
   "pygments_lexer": "ipython3",
   "version": "3.8.5"
  }
 },
 "nbformat": 4,
 "nbformat_minor": 4
}
