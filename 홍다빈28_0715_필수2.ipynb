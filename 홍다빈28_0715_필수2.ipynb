{
 "cells": [
  {
   "cell_type": "markdown",
   "metadata": {},
   "source": [
    "# 필수과제2\n",
    "- 정규성 검정, 표본에 따라서 달라지는 분석기법에 대해서 리마인드 공부"
   ]
  },
  {
   "cell_type": "markdown",
   "metadata": {},
   "source": [
    "- 정규성은 자료가 정규분포를 따르는지를 의미한다.\n",
    "- 정규성 검정은 주어진 데이터가 정규분포를 따르는지를 확인하는 과정으로, 통계 분석을 수행하기 전에 반드시 수행되어야 한다. 만약 데이터가 정규분포를 따르지 않는다면, 다른 분석 기법을 사용해야 할 수 있다."
   ]
  },
  {
   "cell_type": "markdown",
   "metadata": {},
   "source": [
    "### 정규성 검정의 다양한 방법\n",
    "- 1. Shapiro-Wilk 검정: 표본 크기가 작은 경우에도 잘 동작하며, 가장 일반적으로 사용되는 정규성 검정 중 하나이다.\n",
    "- 2. Kolmogorov-Smirnov 검정: 큰 표본에 적용하기에 적합하며, Shapiro-Wilk 검정보다 조금 더 보수적인 결과를 제공한다.\n",
    "- 3. Anderson-Darling 검정: 표본 크기가 크고 극단적인 값들에 민감한 경우에 유용하며, Shapiro-Wilk 검정보다 더 정확한 결과를 얻을 수 있다\n",
    "- 4. Lilliefors 검정: Anderson-Darling 검정과 유사하지만, 표본 크기가 작을 때 더 적합한 검정 방법이다."
   ]
  },
  {
   "cell_type": "markdown",
   "metadata": {},
   "source": [
    "### 정규성 검정 결과에 따라 분석 기법이 달라질 수 있다.\n",
    "### 주로 사용되는 통계 분석 방법"
   ]
  },
  {
   "cell_type": "markdown",
   "metadata": {},
   "source": [
    "- 1. 정규분포를 따르는 경우:\n",
    "  - t-검정: 두 집단 간 평균 비교에 사용된다.\n",
    "  - 분산분석: 두 개 이상의 집단 간 평균 비교에 사용된다.\n",
    "  - 회귀 분석: 연속형 종속 변수와 하나 이상의 독립 변수 사이의 관계를 분석할 때 사용된다.\n",
    "- 2. 정규분포를 따르지 않는 경우:\n",
    "  - 비모수적인 통계 분석 방법: Mann-Whitney U 검정, Kruskal-Wallis 검정 등의 비모수적인 방법을 사용하여 비교한다.\n",
    "  - 변환: 데이터를 로그 변환 또는 제곱근 변환 등으로 정규성을 갖도록 만든 후, 정규성을 만족하는 기법을 사용할 수 있다."
   ]
  }
 ],
 "metadata": {
  "kernelspec": {
   "display_name": "Python 3",
   "language": "python",
   "name": "python3"
  },
  "language_info": {
   "codemirror_mode": {
    "name": "ipython",
    "version": 3
   },
   "file_extension": ".py",
   "mimetype": "text/x-python",
   "name": "python",
   "nbconvert_exporter": "python",
   "pygments_lexer": "ipython3",
   "version": "3.8.5"
  }
 },
 "nbformat": 4,
 "nbformat_minor": 4
}
