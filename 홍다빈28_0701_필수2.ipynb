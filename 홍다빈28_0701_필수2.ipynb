{
 "cells": [
  {
   "cell_type": "markdown",
   "metadata": {},
   "source": [
    "# 필수과제2\n",
    "- 공분산의 수식을 확인해 보고 그것에 대한 개념을 꼭 정리해서 제출하기"
   ]
  },
  {
   "cell_type": "markdown",
   "metadata": {},
   "source": [
    "### 공분산이란?\n",
    "- 2개의 확률변수의 선형 관계를 나타내는 값이다.\n",
    "- 만약 2개의 변수 중 하나의 값이 상승하는 경향을 보일 때 다른 값도 상승하는 선형 상관서잉 있다면 양수의 공분산을 가진다.\n",
    "- 반대로 2개의 변수 중 하나의 값이 상승하는 경향을 보일 때 다른 값이 하강하는 선형 상관성을 보인다면 공분산의 값은 음수가 된다.\n",
    "- 이렇게 공분산을 상관관계의 상승 혹은 하강하는 경향을 이해할 수 있으나 2개 변수의 측정 단위의 크기에 따라 값이 달라지므로 상관분석을 통해 정도를 파악하기에는 부적절하다.\n",
    "- 상관분석에서는 상관관계의 정도를 나타내는 단위로 모상관계수로는 그리수 문자ρ를, 표본상관계수로는 알파벳 s를 사용한다."
   ]
  },
  {
   "cell_type": "markdown",
   "metadata": {},
   "source": [
    "### 공분산의 공식\n",
    "Cov(X,Y) = E[(X-E[X])(Y-E[Y])]"
   ]
  },
  {
   "cell_type": "markdown",
   "metadata": {},
   "source": [
    "- 여기서 실수 값을 지니는 2개의 확률변수 X와 Y에 대해서 공분산의 기댓값\n",
    "  - E(X) = m, E(Y) = v"
   ]
  },
  {
   "cell_type": "markdown",
   "metadata": {},
   "source": [
    "- 기댓값 연산자 E를 정리하면\n",
    "  - Cov(X,Y) = E(X*Y) - mv"
   ]
  },
  {
   "cell_type": "markdown",
   "metadata": {},
   "source": [
    "- 만약 X와 Y가 독립이라면 공분산은 0이 될 것이고 이 경우\n",
    "  - E(X*Y) = E(X)*E(Y) = mv"
   ]
  },
  {
   "cell_type": "markdown",
   "metadata": {},
   "source": [
    "- 2번째 식을 3번째 식에 대입하면\n",
    "  - Cov(X,Y) = mv - mv = 0"
   ]
  },
  {
   "cell_type": "markdown",
   "metadata": {},
   "source": [
    "- 일반적으로 역은 성립하지 않는다. 즉 X와 Y가 독립이 아니라하더라도 공분산의 값은 0이 될 수 있다.\n",
    "- Cov(X,Y)의 단위는 X와 Y의 곱이다.\n",
    "- 상관관계는 공분산 값을 필요로하며, 선형 독립의 무차원수로 볼 수 있다.\n",
    "- 공분산이 0인 확률변수를 비상관 확률변수라고 한다."
   ]
  }
 ],
 "metadata": {
  "kernelspec": {
   "display_name": "Python 3",
   "language": "python",
   "name": "python3"
  },
  "language_info": {
   "codemirror_mode": {
    "name": "ipython",
    "version": 3
   },
   "file_extension": ".py",
   "mimetype": "text/x-python",
   "name": "python",
   "nbconvert_exporter": "python",
   "pygments_lexer": "ipython3",
   "version": "3.8.5"
  }
 },
 "nbformat": 4,
 "nbformat_minor": 4
}
