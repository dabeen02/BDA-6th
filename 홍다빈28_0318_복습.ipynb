{
 "cells": [
  {
   "cell_type": "markdown",
   "metadata": {},
   "source": [
    "- 반복문의 작동 원리, 반복문을 통한 리스트 접근, 리스트 만들기"
   ]
  },
  {
   "cell_type": "markdown",
   "metadata": {},
   "source": [
    "### 반복문\n",
    "- for문\n",
    "- while문"
   ]
  },
  {
   "cell_type": "markdown",
   "metadata": {},
   "source": [
    "1. for문\n",
    "\n",
    "개념\n",
    "- for문은 컬렉션의 요소를 순서대로 반복하면서 루프의 명령을 실행하는 반복문.\n",
    "- 컬렉션은 여러 개의 값을 모아 놓은 집합인데 리스트나 문자열이 대표적"
   ]
  },
  {
   "cell_type": "markdown",
   "metadata": {},
   "source": [
    "기본 형식\n",
    "- for 변수명 in 범위 또는 배열의 변수:\n",
    "    - 반복할 명령\n",
    "- range(시작, 끝, 증가값)\n",
    "  - range(i) 경우 0부터 i-1까지의 범위\n",
    "  - range(0,5) 경우 0,1,2,3,4를 뜻하고, range(5)와 동일\n",
    "  - range(0,11,2) 경우 0,2,4,6,8,10를 뜻함"
   ]
  },
  {
   "cell_type": "markdown",
   "metadata": {},
   "source": [
    "2. while문\n",
    "개념\n",
    "- while문은 if문과 형식이 유사하되 명령을 한 번만 실행하는 것이 아니라 조건이 만족하는 동안 계속 실행\n",
    "- 반복적으로 처리되는 명령을 루프(Loop)라고 하는데 언젠가는 반복을 끝내야 하므로 (무한 루프 방지) 루프에는 조건의 진위 여부를 바꾸는 명령이 반드시 포함되어 있어야 함"
   ]
  },
  {
   "cell_type": "markdown",
   "metadata": {},
   "source": [
    "기본 형식\n",
    "- while True 또는 False가 되는 조건식:\n",
    "    - 반복할 명령"
   ]
  },
  {
   "cell_type": "markdown",
   "metadata": {},
   "source": [
    "ex) 1부터 10까지 출력"
   ]
  },
  {
   "cell_type": "code",
   "execution_count": 1,
   "metadata": {},
   "outputs": [
    {
     "name": "stdout",
     "output_type": "stream",
     "text": [
      "1\n",
      "2\n",
      "3\n",
      "4\n",
      "5\n",
      "6\n",
      "7\n",
      "8\n",
      "9\n",
      "10\n"
     ]
    }
   ],
   "source": [
    "i=1\n",
    "while i<11:\n",
    "    print(i)\n",
    "    i += 1"
   ]
  },
  {
   "cell_type": "markdown",
   "metadata": {},
   "source": [
    "- 잊어버린 부분이 있어 다시 복습합니다\n",
    "- 리스트의 삭제에 대해서\n",
    "- 리스트 메서드 append, insert remove, pop, extend"
   ]
  },
  {
   "cell_type": "code",
   "execution_count": 4,
   "metadata": {},
   "outputs": [
    {
     "name": "stdout",
     "output_type": "stream",
     "text": [
      "c: [100, 200, 300, 400, 500, 600, 700]\n",
      "c: [100, 300, 400, 500, 600, 700]\n"
     ]
    }
   ],
   "source": [
    "#리스트 삭제, 특정 위치 삭제, 특정 범위 삭제\n",
    "c = [100, 200, 300, 400, 500, 600, 700]\n",
    "print(\"c: %s\" %c)\n",
    "\n",
    "#특정 위시 삭제\n",
    "del(c[1])\n",
    "print(\"c: %s\" %c)\n",
    "\n"
   ]
  },
  {
   "cell_type": "code",
   "execution_count": 6,
   "metadata": {},
   "outputs": [
    {
     "name": "stdout",
     "output_type": "stream",
     "text": [
      "c: [100, 500, 600, 700]\n"
     ]
    }
   ],
   "source": [
    "#범위 삭제\n",
    "c = [100, 200, 300, 400, 500, 600, 700]\n",
    "del(c[1:4])\n",
    "print(\"c: %s\" %c)"
   ]
  },
  {
   "cell_type": "markdown",
   "metadata": {},
   "source": [
    "- list.append(x) - 리스트에 x값을 추가\n",
    "- 리스트의 끝에 값 x를 추가하는 함수"
   ]
  },
  {
   "cell_type": "code",
   "execution_count": 8,
   "metadata": {},
   "outputs": [
    {
     "name": "stdout",
     "output_type": "stream",
     "text": [
      "[2, 9, 4]\n",
      "[2, 9, 4, 'k']\n",
      "[2, 9, 4, 'k', 100]\n"
     ]
    }
   ],
   "source": [
    "a = [2,9,4]\n",
    "print(a)\n",
    "\n",
    "a.append('k')\n",
    "print(a)\n",
    "\n",
    "a.append(100)\n",
    "print(a)"
   ]
  },
  {
   "cell_type": "markdown",
   "metadata": {},
   "source": [
    "- list.insert(a,b)- 특정 위치에 값 추가\n",
    "- 리스트의 a위치에 b값을 추가하는 함수\n",
    "- a는 index를 말한다"
   ]
  },
  {
   "cell_type": "code",
   "execution_count": 11,
   "metadata": {},
   "outputs": [
    {
     "name": "stdout",
     "output_type": "stream",
     "text": [
      "[22, 44, 66, 88]\n",
      "['k', 22, 44, 66, 88]\n",
      "['k', 22, 44, 'm', 66, 88]\n"
     ]
    }
   ],
   "source": [
    "c = [22,44,66,88]\n",
    "print(c)\n",
    "\n",
    "c.insert(0,'k')\n",
    "print(c)\n",
    "\n",
    "c.insert(3, 'm')\n",
    "print(c)"
   ]
  },
  {
   "cell_type": "markdown",
   "metadata": {},
   "source": [
    "- list.remove(x)- 리스트에서 특정 값 제거"
   ]
  },
  {
   "cell_type": "code",
   "execution_count": 14,
   "metadata": {},
   "outputs": [
    {
     "name": "stdout",
     "output_type": "stream",
     "text": [
      "[22, 44, 66, 88, 44, 11, 44]\n",
      "[22, 44, 88, 44, 11, 44]\n",
      "[22, 88, 44, 11, 44]\n"
     ]
    },
    {
     "ename": "ValueError",
     "evalue": "list.remove(x): x not in list",
     "output_type": "error",
     "traceback": [
      "\u001b[1;31m---------------------------------------------------------------------------\u001b[0m",
      "\u001b[1;31mValueError\u001b[0m                                Traceback (most recent call last)",
      "\u001b[1;32m<ipython-input-14-9bcf504853b4>\u001b[0m in \u001b[0;36m<module>\u001b[1;34m\u001b[0m\n\u001b[0;32m     11\u001b[0m \u001b[1;33m\u001b[0m\u001b[0m\n\u001b[0;32m     12\u001b[0m \u001b[1;31m#remove() 값이 없을때 (error)\u001b[0m\u001b[1;33m\u001b[0m\u001b[1;33m\u001b[0m\u001b[1;33m\u001b[0m\u001b[0m\n\u001b[1;32m---> 13\u001b[1;33m \u001b[0mb\u001b[0m\u001b[1;33m.\u001b[0m\u001b[0mremove\u001b[0m\u001b[1;33m(\u001b[0m\u001b[1;36m1000\u001b[0m\u001b[1;33m)\u001b[0m\u001b[1;33m\u001b[0m\u001b[1;33m\u001b[0m\u001b[0m\n\u001b[0m\u001b[0;32m     14\u001b[0m \u001b[0mprint\u001b[0m\u001b[1;33m(\u001b[0m\u001b[0mb\u001b[0m\u001b[1;33m)\u001b[0m\u001b[1;33m\u001b[0m\u001b[1;33m\u001b[0m\u001b[0m\n",
      "\u001b[1;31mValueError\u001b[0m: list.remove(x): x not in list"
     ]
    }
   ],
   "source": [
    "b = [22,44,66,88,44,11,44]\n",
    "print(b)\n",
    "\n",
    "# remove() 값이 하나일때\n",
    "b.remove(66)\n",
    "print(b)\n",
    "\n",
    "# remove() 값이 두개 이상일때\n",
    "b.remove(44)\n",
    "print(b)\n",
    "\n",
    "#remove() 값이 없을때 (error)\n",
    "b.remove(1000)\n",
    "print(b)"
   ]
  },
  {
   "cell_type": "markdown",
   "metadata": {},
   "source": [
    "- x가 리스트에 여러개 있다 해도, 맨 처음 x를 지워준다"
   ]
  },
  {
   "cell_type": "code",
   "execution_count": 15,
   "metadata": {},
   "outputs": [
    {
     "name": "stdout",
     "output_type": "stream",
     "text": [
      "[22, 44, 66, 88, 44, 11, 44]\n",
      "[22, 66, 88, 44, 11, 44]\n"
     ]
    }
   ],
   "source": [
    "b = [22,44,66,88,44,11,44]\n",
    "print(b)\n",
    "\n",
    "b.remove(44)\n",
    "print(b)"
   ]
  },
  {
   "cell_type": "markdown",
   "metadata": {},
   "source": [
    "- list.pop()- 리스트 맨 마지막 값 반환 후 삭제\n",
    "- 리스트에 있는 맨 마지막 값을 반환한 후에 리스트에서 해당 값을 삭제하는 함수\n",
    "- 맨 마지막 값을 제거 하기 위한 용도로만 사용\n",
    "- 맨 마지막 값을 읽어오고 제거 하기 위한 용도로도 사용 가능"
   ]
  },
  {
   "cell_type": "code",
   "execution_count": 18,
   "metadata": {},
   "outputs": [
    {
     "name": "stdout",
     "output_type": "stream",
     "text": [
      "[9, 8, 7, 6, 5]\n",
      "a.pop()의 반환 값: 5\n",
      "[9, 8, 7, 6]\n",
      "a.pop()의 반환 값: 6\n",
      "[9, 8, 7]\n"
     ]
    }
   ],
   "source": [
    "a = [9,8,7,6,5]\n",
    "print(a)\n",
    "\n",
    "b = a.pop()\n",
    "print(\"a.pop()의 반환 값: %d\" %b)\n",
    "print(a)\n",
    "\n",
    "c = a.pop()\n",
    "print(\"a.pop()의 반환 값: %d\" %c)\n",
    "print(a)"
   ]
  },
  {
   "cell_type": "markdown",
   "metadata": {},
   "source": [
    "- list.extend(list2)- 리스트에 다른 리스트2 연결\n",
    "- 리스트1에 리스트2를 붙이고 싶을때 사용하는 함수\n",
    "- extend(매개변수) 함수의 매개변수에는 무조건 리스트가 와야한다"
   ]
  },
  {
   "cell_type": "code",
   "execution_count": 20,
   "metadata": {},
   "outputs": [
    {
     "name": "stdout",
     "output_type": "stream",
     "text": [
      "[6, 5]\n",
      "[6, 5, 3, 2, 1]\n",
      "[6, 5, 3, 2, 1, 'blue', 'red']\n"
     ]
    }
   ],
   "source": [
    "a = [6,5]\n",
    "b = [3,2,1]\n",
    "c = [\"blue\", \"red\"]\n",
    "\n",
    "print(a)\n",
    "\n",
    "a.extend(b)  #a리스트에 b리스트를 붙임\n",
    "print(a)\n",
    "\n",
    "a.extend(c)\n",
    "print(a)"
   ]
  },
  {
   "cell_type": "markdown",
   "metadata": {},
   "source": [
    "### 리스트 + 연산자와 extend의 다른점\n",
    "- list1 + list2는 리스트 두개의 리스트를 연결해서 새로운 list3을 반환하는 것\n",
    "- 그러므로 list3 = list1 + list2 이렇게 해야 이어지 리스트를 받을 수 있다"
   ]
  },
  {
   "cell_type": "markdown",
   "metadata": {},
   "source": [
    "- 하지만 list1.extend(list2)는 list1 리스트 객체에다가 list2를 붙이고\n",
    "- list1 객체를 그래도 사용할 수 있다는 점이 다르다"
   ]
  },
  {
   "cell_type": "markdown",
   "metadata": {},
   "source": [
    "### 2차원 리스트\n",
    "- 2차원 행과 열, 두 가지로 이뤄진 것\n",
    "- 행은 index, 열은 column\n",
    "- 데이터프레임 df도 2차원으로 이루어진 형태"
   ]
  },
  {
   "cell_type": "code",
   "execution_count": 22,
   "metadata": {},
   "outputs": [
    {
     "data": {
      "text/plain": [
       "[[1, 2], [3, 4], [4, 5]]"
      ]
     },
     "execution_count": 22,
     "metadata": {},
     "output_type": "execute_result"
    }
   ],
   "source": [
    "a = [[1,2],[3,4],[4,5]]\n",
    "a"
   ]
  },
  {
   "cell_type": "markdown",
   "metadata": {},
   "source": [
    "### 파이썬에서는 담는 주머니가 다르고, 그 주머니를 불러오는 방법도 다르다\n",
    "- 리스트에 담아도 그 리스트를 가지고 바로 값을 접근할 수 없다\n",
    "- 담는 그릇이 데이터프레임이더라도 이 값을 바꾸거나 계산하려면 값에 바로 접근할 수 없다\n",
    "- 그 값을 접근하려면 접근 방식을 알아야 한다\n",
    "- 값을 접근하려면?\n",
    "- 인덱스로 접근한다"
   ]
  },
  {
   "cell_type": "code",
   "execution_count": 23,
   "metadata": {},
   "outputs": [
    {
     "data": {
      "text/plain": [
       "5"
      ]
     },
     "execution_count": 23,
     "metadata": {},
     "output_type": "execute_result"
    }
   ],
   "source": [
    "a = [[1,2],[3,4],[4,5]]\n",
    "\n",
    "#인덱스로 접근\n",
    "a[2][1]"
   ]
  },
  {
   "cell_type": "code",
   "execution_count": 26,
   "metadata": {},
   "outputs": [
    {
     "name": "stdout",
     "output_type": "stream",
     "text": [
      "a\n",
      "b\n",
      "c\n",
      "d\n",
      "e\n",
      "\n",
      "\n",
      "a\n",
      "b\n",
      "c\n",
      "d\n",
      "e\n"
     ]
    }
   ],
   "source": [
    "b = ['a', 'b', 'c', 'd', 'e']\n",
    "\n",
    "#b의 요소를 다 불러오는 반복문 만들기\n",
    "for i in range(len(b)):\n",
    "    print(b[i])\n",
    "    \n",
    "print(\"\\n\")\n",
    "    \n",
    "for i in b:\n",
    "    print(i)"
   ]
  },
  {
   "cell_type": "markdown",
   "metadata": {},
   "source": [
    "### 내가 추출하고 싶은 주머니에 대해서 그 값을 어떻게 접근할 수 있는지 정확히 알면 된다"
   ]
  },
  {
   "cell_type": "markdown",
   "metadata": {},
   "source": [
    "------------------------------------------------------------------------------------------------------------"
   ]
  },
  {
   "cell_type": "markdown",
   "metadata": {},
   "source": [
    "## 데이터 분석이란 무엇인가?"
   ]
  },
  {
   "cell_type": "markdown",
   "metadata": {},
   "source": [
    "- 통계적 분석\n",
    "- 머신러닝\n",
    "- 데이터 분석 프로세스"
   ]
  },
  {
   "cell_type": "markdown",
   "metadata": {},
   "source": [
    "### 표본 추출을 통해 분석을 진행\n",
    "\n",
    "#### 표본을 뽑을 때 다양한 방법으로 샘플 추출\n",
    "- 단순임의표본\n",
    "- 복원추출 (중복추출이 가능하도록 샘플 다시 모집단 포함)\n",
    "- 비복원추출 등\n",
    "#### 샘플기반의 추정이나 모델링에서 데이터 품질은 데이터의 양보다 더 중요함, 통계는 여기서 대표성(Representativeness)추가"
   ]
  },
  {
   "cell_type": "markdown",
   "metadata": {},
   "source": [
    "### 표본분포라는 용어는 하나의 동일한 모집단에서 얻은 여러 샘플에 대한 표본통계량의 분포\n",
    "- 중심극한정리: 표본크기가 커질수록 표본분포가 정규분포를 따르는 경향\n",
    "- 신뢰구간: 모수가 실제로 포함될 것으로 예측되는 범위 (샘플링된 데이터를 기반으로), 신뢰구간에 모집단 실제 평균값이 포함될 확률을 신뢰수준이라 함\n",
    "- 정규분포 -> 표준정규분포: 정규분포에서 평균이 0, 분산이 1인 경우를 의미\n",
    "  - 가설검정에 많이 쓰임\n",
    "  - 흔히 z-검정, 표준정규분포표\n",
    "  - 정규분포를 이루는 모집단에서 추출한 표본집단의 평균과 표본분포는 정규분포를 갖음"
   ]
  },
  {
   "cell_type": "markdown",
   "metadata": {},
   "source": [
    "### 머신러닝이란?\n",
    "- 데이터를 이용해서 명시적으로 정의되지 않은 패턴을 컴퓨터로 학습하여 결과를 만들어 내는 학문 분야\n",
    "\n",
    "#### 머신러인의 3가지 관점\n",
    "- 통찰력: 도메인 지식을 이용한 통찰력 있는 모델\n",
    "- 이론적 엄정성: 잘 정의되고 보장된 모델\n",
    "- 데이터 적합성: 데이터에 가까운 방향으로 학습"
   ]
  },
  {
   "cell_type": "markdown",
   "metadata": {},
   "source": [
    "#### 머신러닝 분류\n",
    "- 지도학습: 주어진 데이터와 레이블(정답)을 이용해서 미지의 상태나 값을 예측하는 학습방법\n",
    "- 비지도학습: 데이터와 그에 주어진 레이블 간의 연관 관계를 구하는 것이 아니라 데이터 자체에서 유용한 패턴을 찾아내는 학습 방법 (군집화, 이상검출, 데이터 분포추측)\n",
    "- 강화학습: 기계가 환경과의 상호작용을 통해 장기적으로 얻는 이득을 최대화하도록 하는 학습 방법. 지도학습과 달리, 강화학습의 경우에는, 입력값 - 출력값(레이블) 쌍이 명시적으로 정해지지 않음 (알파고, 바둑 전체 이기는 경우의 수)"
   ]
  },
  {
   "cell_type": "markdown",
   "metadata": {},
   "source": [
    "### 모델이란?\n",
    "- 데이터 분석을 하거나 머신러닝으로 문제를 해결하려면 무엇부터 해야 할까?\n",
    "- 쉽게 말해 현재 상태를 어떠한 시각으로 바라보고 어떠한 기대를 하고 있는가 하는 것이 모델이라고 함"
   ]
  }
 ],
 "metadata": {
  "kernelspec": {
   "display_name": "Python 3",
   "language": "python",
   "name": "python3"
  },
  "language_info": {
   "codemirror_mode": {
    "name": "ipython",
    "version": 3
   },
   "file_extension": ".py",
   "mimetype": "text/x-python",
   "name": "python",
   "nbconvert_exporter": "python",
   "pygments_lexer": "ipython3",
   "version": "3.8.5"
  }
 },
 "nbformat": 4,
 "nbformat_minor": 4
}
