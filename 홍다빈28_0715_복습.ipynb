{
 "cells": [
  {
   "cell_type": "code",
   "execution_count": 2,
   "metadata": {},
   "outputs": [],
   "source": [
    "import pandas as pd\n",
    "import numpy as np\n",
    "from scipy import stats\n",
    "\n",
    "np.random.seed(111)"
   ]
  },
  {
   "cell_type": "markdown",
   "metadata": {},
   "source": [
    "- 통계적 가설 검정이란?\n",
    "- 모집단의 모수에 관한 가설을 세우고 표본의 정보를 이용해서 가설을 검증하는 것\n",
    "\n",
    "- potato 감자칩데이터\n",
    "- 14개 데이터 존재\n",
    "\n",
    "- 감자칩 무게가 평균적으로 130g으로 알려져 있다. (편의점 구매시 소비자 알 권리 정보)\n",
    "- 감자칩을 구매한 사람이 무게를 측정했는데 122g 정도 밖에 되지 않았다.\n",
    "- 실제로 편의점에서 말한 130g보다는 적게 나가는 거 아닌가?\n",
    "- 14개가 2주동안 샘플 사서 측정한 것\n",
    "- 14개의 표본을 구매하여 평균을 계산한 결과가 128.45가 나왔다.\n",
    "- 결과에 따라 130g이 아닌 128.45가 아닌가?\n",
    "\n",
    "- 이건 우연이고 130g이 맞다고 할 수 있다."
   ]
  },
  {
   "cell_type": "code",
   "execution_count": 3,
   "metadata": {},
   "outputs": [],
   "source": [
    " df = pd.read_csv('potato.csv')"
   ]
  },
  {
   "cell_type": "code",
   "execution_count": 4,
   "metadata": {},
   "outputs": [
    {
     "data": {
      "text/html": [
       "<div>\n",
       "<style scoped>\n",
       "    .dataframe tbody tr th:only-of-type {\n",
       "        vertical-align: middle;\n",
       "    }\n",
       "\n",
       "    .dataframe tbody tr th {\n",
       "        vertical-align: top;\n",
       "    }\n",
       "\n",
       "    .dataframe thead th {\n",
       "        text-align: right;\n",
       "    }\n",
       "</style>\n",
       "<table border=\"1\" class=\"dataframe\">\n",
       "  <thead>\n",
       "    <tr style=\"text-align: right;\">\n",
       "      <th></th>\n",
       "      <th>무게</th>\n",
       "    </tr>\n",
       "  </thead>\n",
       "  <tbody>\n",
       "    <tr>\n",
       "      <th>0</th>\n",
       "      <td>122.02</td>\n",
       "    </tr>\n",
       "    <tr>\n",
       "      <th>1</th>\n",
       "      <td>131.73</td>\n",
       "    </tr>\n",
       "    <tr>\n",
       "      <th>2</th>\n",
       "      <td>130.60</td>\n",
       "    </tr>\n",
       "    <tr>\n",
       "      <th>3</th>\n",
       "      <td>131.82</td>\n",
       "    </tr>\n",
       "    <tr>\n",
       "      <th>4</th>\n",
       "      <td>132.05</td>\n",
       "    </tr>\n",
       "    <tr>\n",
       "      <th>5</th>\n",
       "      <td>126.12</td>\n",
       "    </tr>\n",
       "    <tr>\n",
       "      <th>6</th>\n",
       "      <td>124.43</td>\n",
       "    </tr>\n",
       "    <tr>\n",
       "      <th>7</th>\n",
       "      <td>132.89</td>\n",
       "    </tr>\n",
       "    <tr>\n",
       "      <th>8</th>\n",
       "      <td>122.79</td>\n",
       "    </tr>\n",
       "    <tr>\n",
       "      <th>9</th>\n",
       "      <td>129.95</td>\n",
       "    </tr>\n",
       "    <tr>\n",
       "      <th>10</th>\n",
       "      <td>126.14</td>\n",
       "    </tr>\n",
       "    <tr>\n",
       "      <th>11</th>\n",
       "      <td>134.45</td>\n",
       "    </tr>\n",
       "    <tr>\n",
       "      <th>12</th>\n",
       "      <td>127.64</td>\n",
       "    </tr>\n",
       "    <tr>\n",
       "      <th>13</th>\n",
       "      <td>125.68</td>\n",
       "    </tr>\n",
       "  </tbody>\n",
       "</table>\n",
       "</div>"
      ],
      "text/plain": [
       "        무게\n",
       "0   122.02\n",
       "1   131.73\n",
       "2   130.60\n",
       "3   131.82\n",
       "4   132.05\n",
       "5   126.12\n",
       "6   124.43\n",
       "7   132.89\n",
       "8   122.79\n",
       "9   129.95\n",
       "10  126.14\n",
       "11  134.45\n",
       "12  127.64\n",
       "13  125.68"
      ]
     },
     "execution_count": 4,
     "metadata": {},
     "output_type": "execute_result"
    }
   ],
   "source": [
    "df"
   ]
  },
  {
   "cell_type": "code",
   "execution_count": 5,
   "metadata": {},
   "outputs": [
    {
     "data": {
      "text/plain": [
       "무게    128.450714\n",
       "dtype: float64"
      ]
     },
     "execution_count": 5,
     "metadata": {},
     "output_type": "execute_result"
    }
   ],
   "source": [
    "df.mean()"
   ]
  },
  {
   "cell_type": "code",
   "execution_count": 6,
   "metadata": {},
   "outputs": [],
   "source": [
    "sample = np.array(df['무게'])"
   ]
  },
  {
   "cell_type": "code",
   "execution_count": 7,
   "metadata": {},
   "outputs": [
    {
     "data": {
      "text/plain": [
       "array([122.02, 131.73, 130.6 , 131.82, 132.05, 126.12, 124.43, 132.89,\n",
       "       122.79, 129.95, 126.14, 134.45, 127.64, 125.68])"
      ]
     },
     "execution_count": 7,
     "metadata": {},
     "output_type": "execute_result"
    }
   ],
   "source": [
    "sample"
   ]
  },
  {
   "cell_type": "code",
   "execution_count": 8,
   "metadata": {},
   "outputs": [
    {
     "data": {
      "text/plain": [
       "128.4507142857143"
      ]
     },
     "execution_count": 8,
     "metadata": {},
     "output_type": "execute_result"
    }
   ],
   "source": [
    "np.mean(sample)"
   ]
  },
  {
   "cell_type": "code",
   "execution_count": 12,
   "metadata": {},
   "outputs": [],
   "source": [
    "s_mean=np.mean(sample)"
   ]
  },
  {
   "cell_type": "code",
   "execution_count": 9,
   "metadata": {},
   "outputs": [],
   "source": [
    "rv = stats.norm(130, np.sqrt(9/14))"
   ]
  },
  {
   "cell_type": "code",
   "execution_count": 10,
   "metadata": {},
   "outputs": [
    {
     "data": {
      "text/plain": [
       "128.68118313069039"
      ]
     },
     "execution_count": 10,
     "metadata": {},
     "output_type": "execute_result"
    }
   ],
   "source": [
    "rv.isf(0.95) #통상적으로 사용하는 구간 #0.05안에 들어있다는 뜻\n",
    "#128.681 이하의 무게가 되는 것은 5%확률로 발생한다는 것"
   ]
  },
  {
   "cell_type": "markdown",
   "metadata": {},
   "source": [
    "- 표본평균이 128.451 이 경우는 5% 확률로만 일어나므로 운이 나빴다.\n",
    "- 모평균이 130g 이라는 가설 아래에 5%의 확률로 발생하는 사건이 우연히 일어난 것이 아니라 원래 모평균이 130g 작은 것이 아닌가?\n",
    "- 모평균이 130g보다 작다라는 결론을 내리려는 가설검정 흐름"
   ]
  },
  {
   "cell_type": "markdown",
   "metadata": {},
   "source": [
    "- 귀무가설과 대립가설을 사용한다\n",
    "- 차이가 있다, 효과가 있다 -> 대립가설. 본인이 주장하고 싶은 가설\n",
    "- 차이가 없다, 효과가 없다 -> 귀무가설. 원래 가설이 맞다는 뜻\n",
    "- 표본으로부터 통계량을 계산하여 가설검정 수행\n",
    "- 귀무가설 기각, 귀무가설 채택\n",
    "- (단측검정, 양측검정 꼭 필수적으로 리마인드)\n",
    "- 표본으로부터 계산된 통계량이 드문 값인지 여부로 결정을 하는데, 드문 값을 얻으면 우연이 아니라 어떤 의미있는 값이라 생각하여 귀무가설을 기각\n",
    "- 반대면 귀무가설을 채택\n",
    "- 우연이 아니라 \"어떤 의미가 있다\"라는 것이 유의하다.\n",
    "- 대립가설은 모평균이 130g보다 작다.\n",
    "- 귀무가설은 모평균이 130g이다.\n",
    "- 표본평균이 128.681보다 작다면 귀무가설은 기각되고, 128.681보다 크다면 귀무가설은 채택된다.\n",
    "- 귀무가설을 기각되는 구간을 기각역, 채택되는 것을 채택역\n",
    "- 유의수준, 임계값(138.681)\n",
    "- p값 -> p값이 유의수준보다 작을 때에는 귀무가설 기각하고, 그렇지 않으면 귀무가설을 채택한다."
   ]
  },
  {
   "cell_type": "code",
   "execution_count": 13,
   "metadata": {},
   "outputs": [],
   "source": [
    "#검정통계량 계산\n",
    "z = (s_mean - 130)/np.sqrt(9/14)"
   ]
  },
  {
   "cell_type": "code",
   "execution_count": 14,
   "metadata": {},
   "outputs": [
    {
     "data": {
      "text/plain": [
       "-1.932298779026813"
      ]
     },
     "execution_count": 14,
     "metadata": {},
     "output_type": "execute_result"
    }
   ],
   "source": [
    "z"
   ]
  },
  {
   "cell_type": "code",
   "execution_count": 15,
   "metadata": {},
   "outputs": [
    {
     "data": {
      "text/plain": [
       "-1.6448536269514722"
      ]
     },
     "execution_count": 15,
     "metadata": {},
     "output_type": "execute_result"
    }
   ],
   "source": [
    "#임계값\n",
    "rv = stats.norm()\n",
    "rv.isf(0.95)"
   ]
  },
  {
   "cell_type": "code",
   "execution_count": 16,
   "metadata": {},
   "outputs": [
    {
     "data": {
      "text/plain": [
       "0.026661319523126635"
      ]
     },
     "execution_count": 16,
     "metadata": {},
     "output_type": "execute_result"
    }
   ],
   "source": [
    "#검정통계량과 임계값을 비교하면, 검정통계량 값이 더 작다.\n",
    "# 이 결과를 가지고 귀무가설은 기각되고 평균 130g보다 작다는 결론\n",
    "\n",
    "#p값을 가지고 비교해 보기\n",
    "rv.cdf(z)"
   ]
  },
  {
   "cell_type": "code",
   "execution_count": 17,
   "metadata": {},
   "outputs": [],
   "source": [
    "#0.027 유의수준 0.05 보다 작은 값이 나오니 -> 귀무가설 기각 -> p값 기준으로 가설검정 동일한 결론"
   ]
  },
  {
   "cell_type": "code",
   "execution_count": 18,
   "metadata": {},
   "outputs": [
    {
     "data": {
      "text/plain": [
       "(-1.959963984540054, 1.959963984540054)"
      ]
     },
     "execution_count": 18,
     "metadata": {},
     "output_type": "execute_result"
    }
   ],
   "source": [
    "#양측 검정\n",
    "rv = stats.norm()\n",
    "rv.interval(0.95)"
   ]
  },
  {
   "cell_type": "code",
   "execution_count": 19,
   "metadata": {},
   "outputs": [
    {
     "data": {
      "text/plain": [
       "0.05332263904625327"
      ]
     },
     "execution_count": 19,
     "metadata": {},
     "output_type": "execute_result"
    }
   ],
   "source": [
    "rv.cdf(z)*2"
   ]
  },
  {
   "cell_type": "code",
   "execution_count": 20,
   "metadata": {},
   "outputs": [],
   "source": [
    "#0.05보다 크게 나온다. 귀무가설이 기각되지 않는다."
   ]
  },
  {
   "cell_type": "markdown",
   "metadata": {},
   "source": [
    "## 가설검정의 두 가지 오류\n",
    "- 표본을 이용하여 확률적으로 결론을 유도하는 것 -> 확률이기 때문에 모든 확률 100%라 할 수 없다 -> 잘못 판단하는 경우가 발생한다.\n",
    "- 가설검정의 잘못(오류)\n",
    "- 1종 오류: 귀무가설이 옳을 때, 귀무가설을 기각하는 오류\n",
    "- 2종 오류: 대립가설이 옳을 때, 귀무가설을 채택하는 오류\n",
    "- 1종 오류는 평균 130g이 맞다, 평균이 130g보다 작다라고 결론을 내리는 것\n",
    "- 오탐 -> 검출하지 말아야 할 것을 검출한다.\n",
    "- 위험률 a -> 위험률은 분석가가 제어할 수 있는 확률\n",
    "- 5% 1% 정한다 -> 분석가가 직접 정해서 가설검정하는 것이라서\n",
    "- 제 1종 오류는 분석가가 제어할 수 있다.\n",
    "- 제 2종 오류\n",
    "- 실제로 모평균이 130g보다 작다 -> 모평균은 130g보다 작다라고 하지 않은 것\n",
    "- 실제로 놓친 부분이라 미탐"
   ]
  },
  {
   "cell_type": "markdown",
   "metadata": {},
   "source": [
    "## 기본적인 가정\n",
    "### 하나의 표본을 가지고 진행한 것\n",
    "- 감자침 데이터 하나 가지고 진행을 한 것\n",
    "- 모분산을 알고 있는 경우\n",
    "- 모평균에 대한 유의수준 양측검정, 단측 진행하게 될 것\n",
    "- 모분산에 대한 검정\n",
    "- 모평균에 대해 검정하는데 -> 모분산을 모르는 경우\n",
    "- t분포를 이용해서 진행한다."
   ]
  },
  {
   "cell_type": "markdown",
   "metadata": {},
   "source": [
    "## 표본이 2개인 경우에 대한 가설검정\n",
    "- 감자칩이 A사 감자칩과 B사 감자칩\n",
    "- 신약이 나왔을 때 신약에 대한 효과를 판단하기 위해서 진행 / 약을 복용 전과 약을 복용 후\n",
    "- 2표본에 대한 문제\n",
    "- 다양한 관계가 있을 것\n",
    "- 2표본에 대해서 대표값 사이에 차이가 있는지 살펴보고, 대표값의 차이에 대한 검정을 다루기도 한다\n",
    "- 대표값의 차이에 대한 모집단에 정규분포를 가정할 수 있는가?\n",
    "- 데이터가 대응이 되는 여부로 확일할 수 있다.\n",
    "  - 정규분포 가정할 수 있다 / 정규분포를 가정할 수 없다\n",
    "- 대응표본 대응비교 t검정 / 월콕슨 부호순위검정\n",
    "- 독립표본 독립비교 t검정 / 만위트니 u검정\n",
    "- 정규분포에 대한 것을 꼭 체크해야 한다\n",
    "- 비모수검정"
   ]
  },
  {
   "cell_type": "markdown",
   "metadata": {},
   "source": [
    "## 표본이 3개 이상인 경우\n",
    "- 분산분석"
   ]
  }
 ],
 "metadata": {
  "kernelspec": {
   "display_name": "Python 3",
   "language": "python",
   "name": "python3"
  },
  "language_info": {
   "codemirror_mode": {
    "name": "ipython",
    "version": 3
   },
   "file_extension": ".py",
   "mimetype": "text/x-python",
   "name": "python",
   "nbconvert_exporter": "python",
   "pygments_lexer": "ipython3",
   "version": "3.8.5"
  }
 },
 "nbformat": 4,
 "nbformat_minor": 4
}
