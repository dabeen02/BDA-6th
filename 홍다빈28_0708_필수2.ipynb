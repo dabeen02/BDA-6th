{
 "cells": [
  {
   "cell_type": "markdown",
   "metadata": {},
   "source": [
    "# 필수과제2\n",
    "- 중심극한정리가 무엇인지\n",
    "- 중심극한정리에 대한 파이썬 코드 및 주석처리를 통해서 개념에 대한 내용 설명"
   ]
  },
  {
   "cell_type": "markdown",
   "metadata": {},
   "source": [
    "## 중심극한정리란?\n",
    "- 표본크기(n)가 증가함에 따라, 평균의 표본 분포가 정규 분포에 근사한다는 이론\n",
    "- 따라서 표본크기가 증가할수록 '표본의 평균과 표준편차'가 '모집단의 평균과 표준편아'에 가까워짐\n",
    "  - 표본크기가 클수록 모수 예측이 정확해짐\n",
    "- 중심극한정리가 성립하기 위해서 표본크기가 최소 30이상이어야 함\n",
    "\n",
    "### 중심극한정리는 모집단 분포에 상관없이 표본크기가 증가함에 따라, 표본분포가 점점 정규분포에 수렴한다는 사실을 알려준다.\n",
    "### 따라서, 샘플링되는 표본크기가 증가함에 따라 Sampling error는 점차 감소된다."
   ]
  },
  {
   "cell_type": "markdown",
   "metadata": {},
   "source": [
    "## 중심극한정리에 대한 파이썬 코드"
   ]
  },
  {
   "cell_type": "code",
   "execution_count": 7,
   "metadata": {},
   "outputs": [
    {
     "data": {
      "image/png": "[encoded data removed]",
      "text/plain": [
       "<Figure size 864x288 with 3 Axes>"
      ]
     },
     "metadata": {
      "needs_background": "light"
     },
     "output_type": "display_data"
    }
   ],
   "source": [
    "import numpy as np\n",
    "import seaborn as sns\n",
    "import matplotlib.pyplot as plt\n",
    "import statistics\n",
    "import random\n",
    "\n",
    "# 모집단 A는 +-1000 사이의 값을 10,000번 무작위로 생성함으로 모집단 A의 분포를 확실하게 알 수 없다고 가정\n",
    "A = np.array([random.randint(-1000, 1000) for r in range(10000)])\n",
    "mean_list = []\n",
    "fig, ax = plt.subplots(1,3, figsize=(12,4))\n",
    "col = 0\n",
    "num_k = 100\n",
    "for i in range(10000):\n",
    "    # 이 모집단 A에서 n을 30으로 고정하고 K를 증가시키며 표본 평균 히스토그램으로 시각화함으로써 분포의 변화를 살펴봄\n",
    "    B = np.random.choice(A, size=30, replace=True, p=None)\n",
    "    mean_list.append(statistics.mean(B))\n",
    "    if i+1 == num_k:\n",
    "        sns.distplot(mean_list, kde=False, ax = ax[col])\n",
    "        ax[col].set_title('k'+str(i+1))\n",
    "        num_k *= 10\n",
    "        col += 1\n",
    "        \n",
    "plt.show()\n",
    "plt.close()"
   ]
  },
  {
   "cell_type": "code",
   "execution_count": 8,
   "metadata": {},
   "outputs": [],
   "source": [
    "# K가 증가할수록 표본 평균 분포가 정규 분포에 근사하는 것을 볼 수 있다."
   ]
  }
 ],
 "metadata": {
  "kernelspec": {
   "display_name": "Python 3",
   "language": "python",
   "name": "python3"
  },
  "language_info": {
   "codemirror_mode": {
    "name": "ipython",
    "version": 3
   },
   "file_extension": ".py",
   "mimetype": "text/x-python",
   "name": "python",
   "nbconvert_exporter": "python",
   "pygments_lexer": "ipython3",
   "version": "3.8.5"
  }
 },
 "nbformat": 4,
 "nbformat_minor": 4
}
