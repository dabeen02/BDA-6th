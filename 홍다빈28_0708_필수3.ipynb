{
 "cells": [
  {
   "cell_type": "markdown",
   "metadata": {},
   "source": [
    "# 필수과제3\n",
    "- 이산형 확률분포와 연속형 확률분포의 각 개념과 파이썬 코드, 결과값에 대한 주석으로 설명\n",
    "- 이산형 확률분포: 베르누이분포, 이항분포, 기하분포, 포아송 분포\n",
    "- 연속형 확률분포: 정규분포, 카이제곱분포, 지수분포, t분포, F분포"
   ]
  },
  {
   "cell_type": "markdown",
   "metadata": {},
   "source": [
    "## 이산형 확률분포\n",
    "- 베르누이분포: 시행의 결과가 오직 두가지인 분포\n",
    "- 이항분포: 베르누이 시행을 n번할 때, 사건이 발행한 횟수를 확률변수 x로 하는 확률분포\n",
    "- 기하분포: 처음 성공이 나오기까지 시행한 횟수를 확률변수 x로 할 때의 확률분포\n",
    "- 포아송분포: 단위 시간 안에 발생한 사건 횟수를 확률변수 x로 하는 확률분포 (이항분포에서 시행횟수가 무수히 많아지고, 발생확률은 아주 작은 경우)"
   ]
  },
  {
   "cell_type": "markdown",
   "metadata": {},
   "source": [
    "### 베르누이 분포"
   ]
  },
  {
   "cell_type": "code",
   "execution_count": 33,
   "metadata": {},
   "outputs": [
    {
     "name": "stdout",
     "output_type": "stream",
     "text": [
      "[수기] 베르누이 분포의 기대값은 0.300, 분산은 0.210, 표준편차는 0.458.\n",
      "[패키지] 베르누이 분포의 기대값은 0.300, 분산은 0.210\n"
     ]
    }
   ],
   "source": [
    "import numpy as np\n",
    "p = 0.3 #성공할 확률\n",
    "q = 1-p #실패할 확률\n",
    "E = p #기대값\n",
    "V = p*q #분산\n",
    "s = np.sqrt(V) #표준편차\n",
    "print('[수기] 베르누이 분포의 기대값은 {:.3f}, 분산은 {:.3f}, 표준편차는 {:.3f}.'.format(E,V,s))\n",
    "\n",
    "from scipy.stats import bernoulli\n",
    "E, V = bernoulli.stats(p)\n",
    "print('[패키지] 베르누이 분포의 기대값은 {:.3f}, 분산은 {:.3f}'.format(E,V))"
   ]
  },
  {
   "cell_type": "markdown",
   "metadata": {},
   "source": [
    "### 이항분포"
   ]
  },
  {
   "cell_type": "code",
   "execution_count": 34,
   "metadata": {},
   "outputs": [
    {
     "name": "stdout",
     "output_type": "stream",
     "text": [
      "[패키지] 이항분포 확률질량함수(pmf):  0.243\n",
      "[수기] 이항분포 확률질량함수(pmf): 0.243\n",
      "해당 사건의 평균(기대값)은 0.300, 분산은 0.270\n",
      "[패키지] 이항분포 누적확률질량함수(cdf):  0.972\n",
      "[수기] 이항분포 누적확률질량함수(cdf):  0.972\n"
     ]
    }
   ],
   "source": [
    "from scipy.stats import binom\n",
    "import numpy as np\n",
    "from numpy.random import binomial #이항분포 샘플 만드는 함수\n",
    "fac = np.math.factorial\n",
    "\n",
    "# 근로자가 내년에 회사에서 일하지 않을 확률이 0.1이라고 추정한 경우,\n",
    "# 시간제 근로자 3명을 무작위로 뽑았을 때 그 중 한명이 금년에 회사를 떠날 확률은?\n",
    "n = 3 #근로자 샘플 개수\n",
    "x = 1 #떠날 샘플 개수\n",
    "p = 0.1 #떠날 확률\n",
    "\n",
    "# 이항확률함수로 계산\n",
    "pmf = fac(n)/fac(x)/fac(n-x) * p**x * (1-p)**(n-x)\n",
    "E = n*p\n",
    "V = n*p*(1-p)\n",
    "print(\"[패키지] 이항분포 확률질량함수(pmf): \", binom.pmf(x,n,p))\n",
    "print(\"[수기] 이항분포 확률질량함수(pmf): %.3f\" %(pmf))\n",
    "print(\"해당 사건의 평균(기대값)은 {:.3f}, 분산은 {:.3f}\".format(E,V))\n",
    "\n",
    "#1명 이하로 떠날 확률은?\n",
    "print(\"[패키지] 이항분포 누적확률질량함수(cdf): \", binom.cdf(x,n,p))\n",
    "\n",
    "cdf = 0\n",
    "for i in range(0,x+1): # i = x = 0~1 확률변수의 확률값을 합함\n",
    "    cdf += binom.pmf(i,n,p)\n",
    "print(\"[수기] 이항분포 누적확률질량함수(cdf): \", cdf)"
   ]
  },
  {
   "cell_type": "markdown",
   "metadata": {},
   "source": [
    "### 기하분포"
   ]
  },
  {
   "cell_type": "code",
   "execution_count": 35,
   "metadata": {},
   "outputs": [
    {
     "name": "stdout",
     "output_type": "stream",
     "text": [
      "[수기] pmf 0.116, 기대값은 6.000, 분산은 30.000\n",
      "[패키지] pmf 0.116\n",
      "기대값은 6.000, 분산은 30.000\n",
      "[수기] 2타석 이내 안타 칠 확률 0.577\n",
      "[패키지] 2타석 이내 안타 칠 확률 0.577\n"
     ]
    }
   ],
   "source": [
    "# 하나의 주사위를 세번 던질 때 세번째 시행에서 앞면 숫자가 6이 나올 확률은?\n",
    "x = 3 #세번 시행\n",
    "p = 1/6 #성공할 확률\n",
    "q = 1-p #실패할 확률\n",
    "\n",
    "pmf = q**(x-1) * p #확률질량함수 pmf\n",
    "E = 1/p\n",
    "V = q/(p)**2\n",
    "print('[수기] pmf {:.3f}, 기대값은 {:.3f}, 분산은 {:.3f}'.format(pmf,E,V))\n",
    "\n",
    "from scipy.stats import geom\n",
    "E, V = geom.stats(p)\n",
    "print('[패키지] pmf {:.3f}'.format(geom.pmf(x,p)))\n",
    "print('기대값은 {:.3f}, 분산은 {:.3f}'.format(E,V))\n",
    "\n",
    "# 타율 0.35인 야구 선수가 2타석이내에 안타를 칠 확률은?\n",
    "result = 0\n",
    "x = 2\n",
    "for x in range(1,x+1): #1,2타석에서 안타를 칠 확률\n",
    "    p = 0.35\n",
    "    q = 1-p\n",
    "    pmf = q**(x-1)*p\n",
    "    result+=pmf\n",
    "print('[수기] 2타석 이내 안타 칠 확률 {:.3f}'.format(result))\n",
    "\n",
    "result = geom.cdf(x,p)\n",
    "print('[패키지] 2타석 이내 안타 칠 확률 {:.3f}'.format(result))"
   ]
  },
  {
   "cell_type": "markdown",
   "metadata": {},
   "source": [
    "### 포아송 분포"
   ]
  },
  {
   "cell_type": "code",
   "execution_count": 36,
   "metadata": {},
   "outputs": [
    {
     "name": "stdout",
     "output_type": "stream",
     "text": [
      "[패키지] 포아송분포 확률질량함수(pmf):  0.16803135574154085\n",
      "[수기] 포아송분포 확률질량함수(pmf):  0.16803135574154082\n",
      "해당 사건의 기대값은 3.000, 분산은 3.000\n",
      "[패키지] 포아송분포 누적확률질량함수(cdf):  0.8152632445237722\n",
      "[수기] 포아송분포 누적확률질량함수(cdf):  0.7468060255179593\n"
     ]
    }
   ],
   "source": [
    "# 단위 시간/공간에서 발생하는 횟수는 다른 시간/공간에 대해 서로 독립\n",
    "# 단위 시간/공간에서 사건의 평균출현횟수는 일정\n",
    "# 극히 작은 단위시간/공간에서 둘 이상의 사건이 일어날 가능성이 없어야 함\n",
    "from scipy.stats import poisson\n",
    "import numpy as np\n",
    "from numpy.random import poisson as np_poisson\n",
    "# 1시간동안 전화 교환 시스템에 신청횟수, 옷감 1제곱미터 당 결점 수, 1년 동안 화재 발행횟수, 시간 당 은행창구에 도착하는 고객 수 등\n",
    "# 주말 저녁 시간 당 평균 6명이 응급실 올 경우, 어떤 주말 저녁 30분 내 4명이 도착할 확률은?\n",
    "x = 4 #구간 내 사건 개수\n",
    "mu = 3 #구간 내 평균 사건 개수 (=lambda)\n",
    "\n",
    "pmf = mu**x * np.exp(-mu)/np.math.factorial(x)\n",
    "E = mu\n",
    "V = mu\n",
    "print('[패키지] 포아송분포 확률질량함수(pmf): ', poisson.pmf(x,mu))\n",
    "print('[수기] 포아송분포 확률질량함수(pmf): ', pmf)\n",
    "print('해당 사건의 기대값은 {:.3f}, 분산은 {:.3f}'.format(E,V))\n",
    "#포아송 분포의 평균과 분산은 동일\n",
    "\n",
    "# 4명 이하로 도착할 확률은?\n",
    "print('[패키지] 포아송분포 누적확률질량함수(cdf): ', poisson.cdf(x,mu))\n",
    "cdf = 0\n",
    "for x in range(0,x+1): # 0~4 확률변수의 확률값을 모두 합함\n",
    "    cdf += poisson.pmf(i,mu)\n",
    "print('[수기] 포아송분포 누적확률질량함수(cdf): ', cdf)"
   ]
  },
  {
   "cell_type": "markdown",
   "metadata": {},
   "source": [
    "## 연속형 확률분포\n",
    "- 정규분포: 수집된 자료의 분포를 근사하는데에 자주 사용되며, 이것은 중심극한정리에 의하여 독립적인 확률변수들의 평균은 정규분포에 가까워지는 성질이 있기 때문이다. 특히 평균이 0이고 표준편차가 1인 정규분포는 표준정규본포라고 한다.\n",
    "- 카이제곱분포: p개의 서로 독립적인 표준정규 확률변수를 각각 제곱한 다음 합해서 얻어지는 분포이다. 이때 p를 자유도라고 하며, 카이제곱분포의 매개변수가 된다. 카이제곱분포는 신뢰구간이나 가설검정 등의 모델에서 자주 등장한다.\n",
    "- 지수분포: 사건이 서로 독립적일 때, 일정 시간 동안 발생하는 사건의 횟수가 포아송분포를 따른달면, 다음 사건이 일어날 때까지의 대기 시간은 지수분포를 따른다. 이는 기하분포와 유사한 측면이 있다.\n",
    "- t분포: 순전히 평균 검정을 하기 위해 고안된 분포이다. 정규분포와 다르게 모분산을 포함하고 있지 않다. 이는 표본 수가 적을 때 신뢰성을 더해준다.\n",
    "- F분포: 카이제곱들의 비(ratio)가 따르는 분포이다. 카이제곱들의 비는 두 변동을 비교하기 위해 사용되는 것으로, 이 역시 자료 수와 관련된 자유도가 반영된다."
   ]
  },
  {
   "cell_type": "markdown",
   "metadata": {},
   "source": [
    "### 정규분포"
   ]
  },
  {
   "cell_type": "code",
   "execution_count": 38,
   "metadata": {},
   "outputs": [
    {
     "name": "stdout",
     "output_type": "stream",
     "text": [
      "검정통계량은 -0.500~2.000이고, 확률은 0.669이다\n"
     ]
    }
   ],
   "source": [
    "# x가 정규분포 N(mu, S^2) = (30, 8^2)를 따를 때 26~46의 확률은?\n",
    "from scipy.stats import norm\n",
    "mu = 30\n",
    "S = 8\n",
    "x1 = 26\n",
    "x2 = 46\n",
    "zstat1 = (x1-mu)/S\n",
    "zstat2 = (x2-mu)/S\n",
    "p = norm.cdf(zstat2) - norm.cdf(zstat1)\n",
    "\n",
    "print(\"검정통계량은 {:.3f}~{:.3f}이고, 확률은 {:.3f}이다\".format(zstat1, zstat2, p))"
   ]
  },
  {
   "cell_type": "markdown",
   "metadata": {},
   "source": [
    "### 카이제곱분포\n",
    "\n",
    "- 자유도\n",
    "- 열변수: 당뇨, 정상\n",
    "- 행변수: 비만, 정상체증, 저체증"
   ]
  },
  {
   "cell_type": "code",
   "execution_count": 39,
   "metadata": {},
   "outputs": [
    {
     "data": {
      "text/plain": [
       "[<matplotlib.lines.Line2D at 0x1933a2c0940>]"
      ]
     },
     "execution_count": 39,
     "metadata": {},
     "output_type": "execute_result"
    },
    {
     "data": {
      "image/png": "[encoded data removed]",
      "text/plain": [
       "<Figure size 720x432 with 1 Axes>"
      ]
     },
     "metadata": {
      "needs_background": "light"
     },
     "output_type": "display_data"
    }
   ],
   "source": [
    "from numpy import linspace\n",
    "from scipy.stats import chi2\n",
    "\n",
    "df = 1          # 자유도\n",
    "x = linspace(0, 20, 50)\n",
    "y = chi2(df).pdf(x)\n",
    "\n",
    "plt.figure(figsize=(10, 6))\n",
    "plt.plot(x, y, 'b--')"
   ]
  },
  {
   "cell_type": "code",
   "execution_count": 40,
   "metadata": {},
   "outputs": [
    {
     "data": {
      "text/plain": [
       "[<matplotlib.lines.Line2D at 0x19339e86790>]"
      ]
     },
     "execution_count": 40,
     "metadata": {},
     "output_type": "execute_result"
    },
    {
     "data": {
      "image/png": "[encoded data removed]",
      "text/plain": [
       "<Figure size 720x432 with 1 Axes>"
      ]
     },
     "metadata": {
      "needs_background": "light"
     },
     "output_type": "display_data"
    }
   ],
   "source": [
    "df = 4          # 자유도\n",
    "x = linspace(0, 20, 50)\n",
    "y = chi2(df).pdf(x)\n",
    "\n",
    "plt.figure(figsize=(10, 6))\n",
    "plt.plot(x, y, 'b--')"
   ]
  },
  {
   "cell_type": "code",
   "execution_count": 41,
   "metadata": {},
   "outputs": [],
   "source": [
    "# 자유도에 따라서 카이스퀘어 분포가 변화한다. 자유도가 증가할수록 카이스퀘어 분포는 정규분포에 가까워진다."
   ]
  },
  {
   "cell_type": "markdown",
   "metadata": {},
   "source": [
    "### 지수분포"
   ]
  },
  {
   "cell_type": "code",
   "execution_count": 42,
   "metadata": {},
   "outputs": [
    {
     "name": "stdout",
     "output_type": "stream",
     "text": [
      "[패키지] 지수분포 누적확률질량함수(cdf):  0.486582880967408\n",
      "[수기] 지수분포 누적확률질량함수(cdf):  0.486582880967408\n",
      "해당 사건의 기대값은 3, 분산은 9 \n",
      "\n"
     ]
    }
   ],
   "source": [
    "# 제품의 수명시간, 상점에서 고객이 한 사람 나간 후에 새로운 고객이 들어올 때까지 걸리는 시간, 은행창구의 고객당 서비스 시간 등\n",
    "# 단위 시간 당 발생하는 평균 사건수를 lambda, 확률변량 X를 발생하는 사건들 사이의 시간\n",
    "from scipy.stats import expon\n",
    "from numpy.random import exponential\n",
    "\n",
    "# 자동차들 사이 시간 간격이 평균 3분인 지수확률 분포를 따르는 경우,\n",
    "# 연속한 두대의 차량이 도착하는 시간이 2분 이내일 확률은? (누적확률밀도함수)\n",
    "x = 2 # x는 항상 양수이다!!\n",
    "mu = 3 # lambda=1/3: 3분동안 1건 발생\n",
    "\n",
    "E = mu #1/lambda\n",
    "V = mu**2 #1/lambda**2\n",
    "cdf = 1 - np.exp(-x/mu)\n",
    "print('[패키지] 지수분포 누적확률질량함수(cdf): ', expon.cdf(x,scale=mu))\n",
    "print('[수기] 지수분포 누적확률질량함수(cdf): ', cdf)\n",
    "print('해당 사건의 기대값은 {}, 분산은 {}'.format(E,V), \"\\n\")"
   ]
  },
  {
   "cell_type": "markdown",
   "metadata": {},
   "source": [
    "### t분포"
   ]
  },
  {
   "cell_type": "code",
   "execution_count": 43,
   "metadata": {},
   "outputs": [
    {
     "data": {
      "image/png": "[encoded data removed]",
      "text/plain": [
       "<Figure size 432x288 with 1 Axes>"
      ]
     },
     "metadata": {
      "needs_background": "light"
     },
     "output_type": "display_data"
    }
   ],
   "source": [
    "import numpy as np\n",
    "X = np.linspace(-5,5,101)\n",
    "\n",
    "#자유도에 따라 t-분포를 그려보면\n",
    "import matplotlib.pyplot as plt\n",
    "from scipy.stats import t\n",
    "for i in np.arange(10)+1:\n",
    "    plt.plot(X,t(i).pdf(X))"
   ]
  },
  {
   "cell_type": "code",
   "execution_count": 44,
   "metadata": {},
   "outputs": [],
   "source": [
    "# 이러한 결과를 볼 수 있다."
   ]
  },
  {
   "cell_type": "markdown",
   "metadata": {},
   "source": [
    "### F분포"
   ]
  },
  {
   "cell_type": "code",
   "execution_count": 45,
   "metadata": {},
   "outputs": [],
   "source": [
    "# library 호출\n",
    "import numpy as np\n",
    "import pandas as pd\n",
    "import matplotlib.pyplot as plt\n",
    "\n",
    "# 카이제곱 리스트 연산 함수\n",
    "# 1000번 시행\n",
    "def normal(inp):\n",
    "    result = []\n",
    "    for i in range(1,1001):\n",
    "        tmp = np.random.normal(size = inp)\n",
    "        dummy = 0\n",
    "        for i in range(inp):\n",
    "            tmp2  = tmp[i] ** 2\n",
    "            dummy += tmp2\n",
    "        result.append(dummy)\n",
    "    return result\n",
    "\n",
    "# F 값 연산 함수\n",
    "def f(inp1, inp2):\n",
    "    result1 = np.array(normal(inp1)) / inp1\n",
    "    result2 = np.array(normal(inp2)) / inp2\n",
    "    result = result1 / result2\n",
    "    return result\n",
    "\n",
    "# 데이터 프레임화\n",
    "def make_group(inp):\n",
    "    num_0 = 0\n",
    "    num_1 = 0\n",
    "    num_2 = 0\n",
    "    num_3 = 0\n",
    "    num_4 = 0\n",
    "    num_5 = 0\n",
    "    num_6 = 0\n",
    "    num_7 = 0\n",
    "    num_8 = 0\n",
    "    num_9 = 0\n",
    "    num_10 = 0\n",
    "    num_11 = 0\n",
    "    num_12 = 0\n",
    "    num_13 = 0\n",
    "    num_14 = 0\n",
    "    num_15 = 0\n",
    "    num_16 = 0\n",
    "    num_17 = 0\n",
    "    num_18 = 0\n",
    "    num_19 = 0\n",
    "    num_20 = 0\n",
    "    for i in inp:\n",
    "        if i >= 20:\n",
    "            num_20 += 1\n",
    "        elif i >= 19:\n",
    "            num_19 += 1\n",
    "        elif i >= 18:\n",
    "            num_18 += 1\n",
    "        elif i >= 17:\n",
    "            num_17 += 1\n",
    "        elif i >= 16:\n",
    "            num_16 += 1\n",
    "        elif i >= 15:\n",
    "            num_15 += 1\n",
    "        elif i >= 14:\n",
    "            num_14 += 1\n",
    "        elif i >= 13:\n",
    "            num_13 += 1\n",
    "        elif i >= 12:\n",
    "            num_12 += 1\n",
    "        elif i >= 11:\n",
    "            num_11 += 1\n",
    "        elif i >= 10:\n",
    "            num_10 += 1\n",
    "        elif i >= 9:\n",
    "            num_9 += 1\n",
    "        elif i >= 8:\n",
    "            num_8 += 1\n",
    "        elif i >= 7:\n",
    "            num_7 += 1\n",
    "        elif i >= 6:\n",
    "            num_6 += 1\n",
    "        elif i >= 5:\n",
    "            num_5 += 1\n",
    "        elif i >= 4:\n",
    "            num_4 += 1\n",
    "        elif i >= 3:\n",
    "            num_3 += 1\n",
    "        elif i >= 2:\n",
    "            num_2 += 1\n",
    "        elif i >= 1:\n",
    "            num_1 += 1\n",
    "        elif i >= 0:\n",
    "            num_0 += 1\n",
    "    result = pd.DataFrame({\n",
    "        'standard' : ['0', '1', '2', '3', '4', '5', '6', '7', '8', '9', '10', '11', '12', '13', '14', '15', '16', '17', '18', '19', 'over20'],\n",
    "        'result' : [num_0, num_1, num_2, num_3, num_4, num_5, num_6, num_7, num_8, num_9, num_10,\n",
    "                   num_11, num_12, num_13, num_14, num_15, num_16, num_17, num_18, num_19, num_20]\n",
    "    })\n",
    "    return result"
   ]
  },
  {
   "cell_type": "code",
   "execution_count": 46,
   "metadata": {},
   "outputs": [
    {
     "data": {
      "text/plain": [
       "<BarContainer object of 21 artists>"
      ]
     },
     "execution_count": 46,
     "metadata": {},
     "output_type": "execute_result"
    },
    {
     "data": {
      "image/png": "[encoded data removed]",
      "text/plain": [
       "<Figure size 432x288 with 1 Axes>"
      ]
     },
     "metadata": {
      "needs_background": "light"
     },
     "output_type": "display_data"
    }
   ],
   "source": [
    "# 결과\n",
    "# F(1,10)\n",
    "result = make_group(f(1, 10))\n",
    "plt.bar(result['standard'], result['result'])"
   ]
  },
  {
   "cell_type": "code",
   "execution_count": 47,
   "metadata": {},
   "outputs": [
    {
     "data": {
      "text/plain": [
       "<BarContainer object of 21 artists>"
      ]
     },
     "execution_count": 47,
     "metadata": {},
     "output_type": "execute_result"
    },
    {
     "data": {
      "image/png": "[encoded data removed]",
      "text/plain": [
       "<Figure size 432x288 with 1 Axes>"
      ]
     },
     "metadata": {
      "needs_background": "light"
     },
     "output_type": "display_data"
    }
   ],
   "source": [
    "# F(1,1000)\n",
    "result = make_group(f(1, 1000))\n",
    "plt.bar(result['standard'], result['result'])"
   ]
  },
  {
   "cell_type": "code",
   "execution_count": 48,
   "metadata": {},
   "outputs": [
    {
     "data": {
      "text/plain": [
       "<BarContainer object of 21 artists>"
      ]
     },
     "execution_count": 48,
     "metadata": {},
     "output_type": "execute_result"
    },
    {
     "data": {
      "image/png": "[encoded data removed]",
      "text/plain": [
       "<Figure size 432x288 with 1 Axes>"
      ]
     },
     "metadata": {
      "needs_background": "light"
     },
     "output_type": "display_data"
    }
   ],
   "source": [
    "# F(10,1)\n",
    "result = make_group(f(10, 1))\n",
    "plt.bar(result['standard'], result['result'])"
   ]
  },
  {
   "cell_type": "code",
   "execution_count": 49,
   "metadata": {},
   "outputs": [
    {
     "data": {
      "text/plain": [
       "<BarContainer object of 21 artists>"
      ]
     },
     "execution_count": 49,
     "metadata": {},
     "output_type": "execute_result"
    },
    {
     "data": {
      "image/png": "[encoded data removed]",
      "text/plain": [
       "<Figure size 432x288 with 1 Axes>"
      ]
     },
     "metadata": {
      "needs_background": "light"
     },
     "output_type": "display_data"
    }
   ],
   "source": [
    "# F(1000,1)\n",
    "result = make_group(f(1000, 1))\n",
    "plt.bar(result['standard'], result['result'])"
   ]
  },
  {
   "cell_type": "code",
   "execution_count": 50,
   "metadata": {},
   "outputs": [
    {
     "data": {
      "text/plain": [
       "<BarContainer object of 21 artists>"
      ]
     },
     "execution_count": 50,
     "metadata": {},
     "output_type": "execute_result"
    },
    {
     "data": {
      "image/png": "[encoded data removed]",
      "text/plain": [
       "<Figure size 432x288 with 1 Axes>"
      ]
     },
     "metadata": {
      "needs_background": "light"
     },
     "output_type": "display_data"
    }
   ],
   "source": [
    "# F(1,1)\n",
    "result = make_group(f(1, 1))\n",
    "plt.bar(result['standard'], result['result'])"
   ]
  },
  {
   "cell_type": "code",
   "execution_count": 51,
   "metadata": {},
   "outputs": [
    {
     "data": {
      "text/plain": [
       "<BarContainer object of 21 artists>"
      ]
     },
     "execution_count": 51,
     "metadata": {},
     "output_type": "execute_result"
    },
    {
     "data": {
      "image/png": "[encoded data removed]",
      "text/plain": [
       "<Figure size 432x288 with 1 Axes>"
      ]
     },
     "metadata": {
      "needs_background": "light"
     },
     "output_type": "display_data"
    }
   ],
   "source": [
    "# F(20,20)\n",
    "result = make_group(f(20, 20))\n",
    "plt.bar(result['standard'], result['result'])"
   ]
  },
  {
   "cell_type": "code",
   "execution_count": 52,
   "metadata": {},
   "outputs": [
    {
     "data": {
      "text/plain": [
       "<BarContainer object of 21 artists>"
      ]
     },
     "execution_count": 52,
     "metadata": {},
     "output_type": "execute_result"
    },
    {
     "data": {
      "image/png": "[encoded data removed]",
      "text/plain": [
       "<Figure size 432x288 with 1 Axes>"
      ]
     },
     "metadata": {
      "needs_background": "light"
     },
     "output_type": "display_data"
    }
   ],
   "source": [
    "# F(1000,1000)\n",
    "result = make_group(f(1000, 1000))\n",
    "plt.bar(result['standard'], result['result'])"
   ]
  }
 ],
 "metadata": {
  "kernelspec": {
   "display_name": "Python 3",
   "language": "python",
   "name": "python3"
  },
  "language_info": {
   "codemirror_mode": {
    "name": "ipython",
    "version": 3
   },
   "file_extension": ".py",
   "mimetype": "text/x-python",
   "name": "python",
   "nbconvert_exporter": "python",
   "pygments_lexer": "ipython3",
   "version": "3.8.5"
  }
 },
 "nbformat": 4,
 "nbformat_minor": 4
}
